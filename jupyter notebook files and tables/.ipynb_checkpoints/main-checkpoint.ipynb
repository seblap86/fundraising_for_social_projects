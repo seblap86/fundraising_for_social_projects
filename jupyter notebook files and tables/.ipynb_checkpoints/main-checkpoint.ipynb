{
 "cells": [
  {
   "cell_type": "markdown",
   "id": "4b1e5b63",
   "metadata": {},
   "source": [
    "## Initial imports"
   ]
  },
  {
   "cell_type": "code",
   "execution_count": null,
   "id": "c85cf1e7",
   "metadata": {},
   "outputs": [],
   "source": [
    "import pandas as pd\n",
    "import numpy as np\n",
    "import seaborn as sns\n",
    "\n",
    "import functions_wrangling as wrangling\n",
    "import functions_data_exploration as exploration"
   ]
  },
  {
   "cell_type": "code",
   "execution_count": null,
   "id": "2479585b",
   "metadata": {},
   "outputs": [],
   "source": [
    "# Dataset from https://lbsresearch.london.edu/id/eprint/1553/ (renamed and converted into .csv)\n",
    "df = pd.read_csv('Social_enterpreneurship_dataset.csv')"
   ]
  },
  {
   "cell_type": "markdown",
   "id": "2c6cb92d",
   "metadata": {},
   "source": [
    "## Data wrangling\n",
    "results in 3 export files: projects.csv, topics.csv, topic_relationships.csv"
   ]
  },
  {
   "cell_type": "code",
   "execution_count": null,
   "id": "e33f5559",
   "metadata": {},
   "outputs": [],
   "source": [
    "wrangling.data_wrangling_and_export(df)"
   ]
  },
  {
   "cell_type": "markdown",
   "id": "576ed507",
   "metadata": {},
   "source": [
    "## Explorative data analysis\n",
    "part of the analysis (the larger part was conducted in Tableau)"
   ]
  },
  {
   "cell_type": "code",
   "execution_count": null,
   "id": "aa2ddc4d",
   "metadata": {},
   "outputs": [],
   "source": [
    "# Re-importing the exported projects dataframe\n",
    "projects = pd.read_csv('projects.csv')"
   ]
  },
  {
   "cell_type": "code",
   "execution_count": null,
   "id": "65d939d4",
   "metadata": {},
   "outputs": [],
   "source": [
    "exploration.correlation_matrix(projects)"
   ]
  }
 ],
 "metadata": {
  "kernelspec": {
   "display_name": "Python 3 (ipykernel)",
   "language": "python",
   "name": "python3"
  },
  "language_info": {
   "codemirror_mode": {
    "name": "ipython",
    "version": 3
   },
   "file_extension": ".py",
   "mimetype": "text/x-python",
   "name": "python",
   "nbconvert_exporter": "python",
   "pygments_lexer": "ipython3",
   "version": "3.11.5"
  }
 },
 "nbformat": 4,
 "nbformat_minor": 5
}
